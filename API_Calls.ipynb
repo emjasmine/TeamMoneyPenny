{
 "cells": [
  {
   "cell_type": "code",
   "execution_count": 1,
   "metadata": {},
   "outputs": [],
   "source": [
    "# Bring in all dependencies\n",
    "\n",
    "import pandas as pd\n",
    "import requests\n",
    "import numpy as np\n",
    "import json\n",
    "import time\n",
    "from datetime import date\n",
    "from pprint import pprint\n",
    "import sqlalchemy\n",
    "#from sqlalchemy.ext.automap import automap_base\n",
    "from sqlalchemy.ext.declarative import declarative_base\n",
    "from sqlalchemy.ext.automap import automap_base\n",
    "from sqlalchemy.orm import Session\n",
    "from sqlalchemy import create_engine, inspect\n",
    "from sqlalchemy import Column, Integer, String, Float\n",
    "from config_poly import api_key\n",
    "import sqlite3\n",
    "#from splinter import Browser\n",
    "#from bs4 import BeautifulSoup\n",
    "#from webdriver_manager.chrome import ChromeDriverManager"
   ]
  },
  {
   "cell_type": "code",
   "execution_count": null,
   "metadata": {},
   "outputs": [],
   "source": [
    "# Establish link to Russell 100 index wiki page\n",
    "russell_url = \"https://en.wikipedia.org/wiki/Russell_1000_Index\"\n",
    "\n",
    "# Creaters browser window for scraping\n",
    "#executable_path = {'executable_path': ChromeDriverManager().install()}\n",
    "#browser = Browser('chrome', **executable_path, headless=False)"
   ]
  },
  {
   "cell_type": "code",
   "execution_count": null,
   "metadata": {},
   "outputs": [],
   "source": [
    "# Visits url, creates soup object\n",
    "#browser.visit(russell_url)\n",
    "#soup = BeautifulSoup(browser.html, 'html.parser')"
   ]
  },
  {
   "cell_type": "code",
   "execution_count": null,
   "metadata": {},
   "outputs": [],
   "source": []
  },
  {
   "cell_type": "code",
   "execution_count": null,
   "metadata": {},
   "outputs": [],
   "source": [
    "thing = pd.read_html(russell_url)\n",
    "company_table = thing[2]\n",
    "companies = company_table[\"Company\"][0:50]\n",
    "myCompanies = pd.unique(companies[0:50])\n",
    "companies"
   ]
  },
  {
   "cell_type": "code",
   "execution_count": null,
   "metadata": {},
   "outputs": [],
   "source": [
    "tickers = company_table[\"Ticker\"][0:50]\n",
    "myTickers = tickers.drop_duplicates()\n",
    "len(myTickers)"
   ]
  },
  {
   "cell_type": "code",
   "execution_count": null,
   "metadata": {},
   "outputs": [],
   "source": [
    "# Initialize list to hold information from polygon.io\n",
    "polygon_info = []\n",
    "polygon_div = []\n",
    "\n",
    "startTime = time.time()\n",
    "#today = date.today()\n",
    "#todays_date = today.strftime(\"%Y-%m-%d\")\n",
    "\n",
    "# Initializes counter to 0\n",
    "count = 0\n",
    "\n",
    "# Loops through list of ticker symbols\n",
    "for ticker in tickers:\n",
    "    \n",
    "    # Checks if count equals 4, used to prevent exceeding \n",
    "    # the API call limit of 5 calls/minute\n",
    "    if count == 4:\n",
    "        # Tells program to wait a minute before running again\n",
    "        time.sleep(90)\n",
    "        \n",
    "        # Ticker symbols to be used for API Call\n",
    "        dataset_code = ticker\n",
    "        \n",
    "        # URLs for API Calls, the first for open and closed prices, \n",
    "        # the second for divident information\n",
    "        url = f\"https://api.polygon.io/v1/open-close/{dataset_code}/2021-04-23?unadjusted=true&apiKey={api_key}\"\n",
    "        div_url = f\"https://api.polygon.io/v2/reference/dividends/{dataset_code}?&apiKey={api_key}\"\n",
    "        \n",
    "        # Saving responses from both urls\n",
    "        response = requests.get(url).json()\n",
    "        div_response = requests.get(div_url).json()\n",
    "        \n",
    "        # Adding responses to info and div lists, respectively\n",
    "        polygon_info.append(response)\n",
    "        polygon_div.append(div_response)\n",
    "        \n",
    "        # Resets counter\n",
    "        count = 0\n",
    "        \n",
    "    else:\n",
    "        # Ticker symbols to be used for API Call\n",
    "        dataset_code = ticker\n",
    "        \n",
    "        # URLs for API Calls, the first for open and closed prices, \n",
    "        # the second for divident information\n",
    "        url = f\"https://api.polygon.io/v1/open-close/{dataset_code}/2021-04-23?unadjusted=true&apiKey={api_key}\"\n",
    "        div_url = f\"https://api.polygon.io/v2/reference/dividends/{dataset_code}?&apiKey={api_key}\"\n",
    "        \n",
    "        # Saving responses from both urls\n",
    "        response = requests.get(url).json()\n",
    "        div_response = requests.get(div_url).json()\n",
    "        \n",
    "        # Adding responses to info and div lists, respectively\n",
    "        polygon_info.append(response)\n",
    "        polygon_div.append(div_response)\n",
    "        \n",
    "        # Increase counter by 2\n",
    "        count += 2\n",
    "#    print(response)\n",
    "\n",
    "executionTime = (time.time() - startTime)"
   ]
  },
  {
   "cell_type": "code",
   "execution_count": null,
   "metadata": {},
   "outputs": [],
   "source": [
    "realTime = executionTime/60\n",
    "realTime"
   ]
  },
  {
   "cell_type": "code",
   "execution_count": null,
   "metadata": {},
   "outputs": [],
   "source": [
    "company_table = pd.DataFrame({'Name':myCompanies,\"Symbol\":myTickers})"
   ]
  },
  {
   "cell_type": "code",
   "execution_count": 14,
   "metadata": {},
   "outputs": [
    {
     "ename": "NameError",
     "evalue": "name 'polygon_info' is not defined",
     "output_type": "error",
     "traceback": [
      "\u001b[0;31m---------------------------------------------------------------------------\u001b[0m",
      "\u001b[0;31mNameError\u001b[0m                                 Traceback (most recent call last)",
      "\u001b[0;32m<ipython-input-14-a57432a00317>\u001b[0m in \u001b[0;36m<module>\u001b[0;34m\u001b[0m\n\u001b[0;32m----> 1\u001b[0;31m \u001b[0mpolygon_info_df\u001b[0m \u001b[0;34m=\u001b[0m \u001b[0mpd\u001b[0m\u001b[0;34m.\u001b[0m\u001b[0mDataFrame\u001b[0m\u001b[0;34m(\u001b[0m\u001b[0mpolygon_info\u001b[0m\u001b[0;34m)\u001b[0m\u001b[0;34m\u001b[0m\u001b[0;34m\u001b[0m\u001b[0m\n\u001b[0m\u001b[1;32m      2\u001b[0m \u001b[0;32mdel\u001b[0m \u001b[0mpolygon_info_df\u001b[0m\u001b[0;34m[\u001b[0m\u001b[0;34m'status'\u001b[0m\u001b[0;34m]\u001b[0m\u001b[0;34m\u001b[0m\u001b[0;34m\u001b[0m\u001b[0m\n\u001b[1;32m      3\u001b[0m \u001b[0;32mdel\u001b[0m \u001b[0mpolygon_info_df\u001b[0m\u001b[0;34m[\u001b[0m\u001b[0;34m'afterHours'\u001b[0m\u001b[0;34m]\u001b[0m\u001b[0;34m\u001b[0m\u001b[0;34m\u001b[0m\u001b[0m\n\u001b[1;32m      4\u001b[0m \u001b[0;32mdel\u001b[0m \u001b[0mpolygon_info_df\u001b[0m\u001b[0;34m[\u001b[0m\u001b[0;34m'preMarket'\u001b[0m\u001b[0;34m]\u001b[0m\u001b[0;34m\u001b[0m\u001b[0;34m\u001b[0m\u001b[0m\n\u001b[1;32m      5\u001b[0m \u001b[0mpolygon_info_df\u001b[0m \u001b[0;34m=\u001b[0m \u001b[0mpolygon_info_df\u001b[0m\u001b[0;34m[\u001b[0m\u001b[0;34m[\u001b[0m\u001b[0;34m'symbol'\u001b[0m\u001b[0;34m,\u001b[0m\u001b[0;34m'from'\u001b[0m\u001b[0;34m,\u001b[0m\u001b[0;34m'open'\u001b[0m\u001b[0;34m,\u001b[0m\u001b[0;34m'high'\u001b[0m\u001b[0;34m,\u001b[0m\u001b[0;34m'low'\u001b[0m\u001b[0;34m,\u001b[0m\u001b[0;34m'close'\u001b[0m\u001b[0;34m,\u001b[0m\u001b[0;34m'volume'\u001b[0m\u001b[0;34m]\u001b[0m\u001b[0;34m]\u001b[0m\u001b[0;34m\u001b[0m\u001b[0;34m\u001b[0m\u001b[0m\n",
      "\u001b[0;31mNameError\u001b[0m: name 'polygon_info' is not defined"
     ]
    }
   ],
   "source": [
    "polygon_info_df = pd.DataFrame(polygon_info)\n",
    "del polygon_info_df['status']\n",
    "del polygon_info_df['afterHours']\n",
    "del polygon_info_df['preMarket']\n",
    "polygon_info_df = polygon_info_df[['symbol','from','open','high','low','close','volume']]\n",
    "polygon_info_df.columns = ['symbol','date','open','high','low','close','volume']\n",
    "\n",
    "polygon_info_df"
   ]
  },
  {
   "cell_type": "code",
   "execution_count": null,
   "metadata": {},
   "outputs": [],
   "source": [
    "all_div = polygon_div[1:]\n",
    "div_amt_list = []\n",
    "payDate = []\n",
    "ticker_list = []\n",
    "\n",
    "for div in all_div:\n",
    "    result = div['results']\n",
    "    \n",
    "    if result == []:\n",
    "        continue\n",
    "        \n",
    "    else:\n",
    "        ticker = div[\"results\"][0]['ticker']\n",
    "        div_amt = div[\"results\"][0]['amount']\n",
    "        pay_date = div[\"results\"][0]['paymentDate']\n",
    "    \n",
    "    ticker_list.append(ticker)\n",
    "    div_amt_list.append(div_amt)\n",
    "    payDate.append(pay_date)\n",
    "    \n",
    "polygon_div_df = pd.DataFrame({\"Symbol\":ticker_list,\"Amount ($)\":div_amt_list,\"Payment Date\":payDate})\n",
    "polygon_div_df"
   ]
  },
  {
   "cell_type": "code",
   "execution_count": null,
   "metadata": {},
   "outputs": [],
   "source": [
    "polygon_info_df.to_csv('openClose.csv')\n",
    "polygon_div_df.to_csv('dividend.csv')\n",
    "company_table.to_csv('companies.csv')"
   ]
  },
  {
   "cell_type": "code",
   "execution_count": 17,
   "metadata": {},
   "outputs": [],
   "source": [
    "polygon_info_df = pd.read_csv('openClose.csv')\n",
    "polygon_div_df = pd.read_csv('dividend.csv')\n",
    "company_table = pd.read_csv('companies.csv')\n",
    "\n",
    "polygon_info_df.columns = ['index','symbol','date','opening','high','low','close','volume']\n",
    "polygon_info_df = polygon_info_df.drop(columns='index')"
   ]
  },
  {
   "cell_type": "code",
   "execution_count": 18,
   "metadata": {},
   "outputs": [],
   "source": [
    "# Create sqlite database path\n",
    "database_path = \"russell_stock.sqlite\"\n",
    "\n",
    "# Create an engine that can talk to the database\n",
    "engine = create_engine(f\"sqlite:///{database_path}\")"
   ]
  },
  {
   "cell_type": "code",
   "execution_count": 10,
   "metadata": {},
   "outputs": [],
   "source": [
    "# use engine to connect to existing tables/db\n",
    "Base = declarative_base()\n",
    "#conn = sqlite3.connect('russell_stock.sqlite')\n",
    "#c = conn.cursor()\n",
    "\n",
    "# Use this to clear out the db\n",
    "# ----------------------------------\n",
    "Base.metadata.drop_all(bind=engine)\n",
    "\n",
    "# Create a \"Metadata\" Layer That Abstracts our SQL Database\n",
    "# ----------------------------------\n",
    "#Base.metadata.create_all(engine)"
   ]
  },
  {
   "cell_type": "code",
   "execution_count": 5,
   "metadata": {},
   "outputs": [],
   "source": [
    "# Define our General_Info table\n",
    "class Open_Close(Base):\n",
    "    __tablename__ = 'openClose'\n",
    "    __table_args__ = {'extend_existing': True}\n",
    "    symbol = Column(String, primary_key=True)\n",
    "    date = Column(String)\n",
    "    opening = Column(Float)\n",
    "    high = Column(Float)\n",
    "    low = Column(Float)\n",
    "    close = Column(Float)\n",
    "    volume = Column(Integer)\n",
    "\n",
    "# Define our Dividend table\n",
    "class Dividend(Base):\n",
    "    __tablename__ = 'dividend'\n",
    "    __table_args__ = {'extend_existing': True}\n",
    "    symbol = Column(String, primary_key=True)\n",
    "    amount = Column(Float)\n",
    "    payment_date = Column(String)\n",
    "\n",
    "# Define our Company Table\n",
    "class Company(Base):\n",
    "    __tablename__ = 'company'\n",
    "    __table_args__ = {'extend_existing': True}\n",
    "    symbol = Column(String, primary_key=True)\n",
    "    name = Column(String)"
   ]
  },
  {
   "cell_type": "code",
   "execution_count": 6,
   "metadata": {},
   "outputs": [],
   "source": [
    "# Save references to each table (capital because they are considered classes) \n",
    "#Company = Database.classes.company\n",
    "#Dividend = Database.classes.dividend\n",
    "#Open_Close = Database.classes.open_close"
   ]
  },
  {
   "cell_type": "code",
   "execution_count": 19,
   "metadata": {},
   "outputs": [],
   "source": [
    "#for i in polygon_info_df.index:\n",
    "#    print(polygon_info_df['from'][i])\n",
    "\n",
    "\n",
    "# insert dataframe into sqlite tables\n",
    "company_table.to_sql(name='company', con=engine, if_exists='replace', index=True)\n",
    "polygon_div_df.to_sql(name='dividend', con=engine, if_exists='replace', index=True)\n",
    "polygon_info_df.to_sql(name='openClose', con=engine, if_exists='replace', index=True)"
   ]
  },
  {
   "cell_type": "code",
   "execution_count": 23,
   "metadata": {},
   "outputs": [],
   "source": [
    "# # for i in polygon_info_df.index:\n",
    "#     thisFrom = polygon_info_df[\"date\"][i]\n",
    "#     thisSymbol = polygon_info_df[\"symbol\"][i]\n",
    "#     thisOpen = polygon_info_df[\"open\"][i]\n",
    "#     thisHigh = polygon_info_df[\"high\"][i]\n",
    "#    thisLow = polygon_info_df[\"low\"][i]\n",
    "#    thisClose = polygon_info_df[\"close\"][i]\n",
    "#    thisVol = polygon_info_df[\"volume\"][i]\n",
    "    \n",
    "    #row = [thisFrom,thisSymbol,thisOpen,thisHigh,thisLow,thisClose,thisVol]\n",
    "    \n",
    "#    thisCompany = Open_Close(date=thisFrom,symbol=thisSymbol,opening=thisOpen,high=thisHigh,low=thisLow,close=thisClose,volume=thisVol)\n",
    "#    session = Session(bind=engine)\n",
    "    #conn.execute('Insert into open_close values(?,?,?,?,?,?,?)', row)\n",
    "    #engine.execute()\n",
    "#    Session.configure(bind=engine)\n",
    "#    session.add(thisCompany)\n",
    "    #session.commit()\n",
    "    \n",
    "#session.close()\n",
    "    \n",
    "    \n",
    "    \n",
    "    "
   ]
  },
  {
   "cell_type": "code",
   "execution_count": 24,
   "metadata": {},
   "outputs": [],
   "source": [
    "#c.close()\n",
    "#session.commit()\n",
    "\n"
   ]
  },
  {
   "cell_type": "code",
   "execution_count": 21,
   "metadata": {},
   "outputs": [
    {
     "ename": "NameError",
     "evalue": "name 'conn' is not defined",
     "output_type": "error",
     "traceback": [
      "\u001b[0;31m---------------------------------------------------------------------------\u001b[0m",
      "\u001b[0;31mNameError\u001b[0m                                 Traceback (most recent call last)",
      "\u001b[0;32m<ipython-input-21-7ac850cf44aa>\u001b[0m in \u001b[0;36m<module>\u001b[0;34m\u001b[0m\n\u001b[1;32m      1\u001b[0m \u001b[0msession\u001b[0m\u001b[0;34m.\u001b[0m\u001b[0mclose\u001b[0m\u001b[0;34m(\u001b[0m\u001b[0;34m)\u001b[0m\u001b[0;34m\u001b[0m\u001b[0;34m\u001b[0m\u001b[0m\n\u001b[1;32m      2\u001b[0m \u001b[0;34m\u001b[0m\u001b[0m\n\u001b[0;32m----> 3\u001b[0;31m \u001b[0mconn\u001b[0m\u001b[0;34m.\u001b[0m\u001b[0mclose\u001b[0m\u001b[0;34m(\u001b[0m\u001b[0;34m)\u001b[0m\u001b[0;34m\u001b[0m\u001b[0;34m\u001b[0m\u001b[0m\n\u001b[0m\u001b[1;32m      4\u001b[0m \u001b[0;34m\u001b[0m\u001b[0m\n\u001b[1;32m      5\u001b[0m \u001b[0mengine\u001b[0m\u001b[0;34m.\u001b[0m\u001b[0mdispose\u001b[0m\u001b[0;34m(\u001b[0m\u001b[0;34m)\u001b[0m\u001b[0;34m\u001b[0m\u001b[0;34m\u001b[0m\u001b[0m\n",
      "\u001b[0;31mNameError\u001b[0m: name 'conn' is not defined"
     ]
    }
   ],
   "source": [
    "session.close()\n",
    "\n",
    "conn.close()\n",
    "\n",
    "engine.dispose()"
   ]
  },
  {
   "cell_type": "code",
   "execution_count": null,
   "metadata": {},
   "outputs": [],
   "source": []
  },
  {
   "cell_type": "code",
   "execution_count": 22,
   "metadata": {},
   "outputs": [
    {
     "name": "stdout",
     "output_type": "stream",
     "text": [
      "[]\n"
     ]
    }
   ],
   "source": [
    "engine = create_engine(f\"sqlite:///{database_path}\")\n",
    "\n",
    "connection = engine.connect()\n",
    "\n",
    "# use engine to connect to existing tables/db\n",
    "base = automap_base()\n",
    "base.prepare(engine, reflect=True)\n",
    "\n",
    "# View all of the classes/tables that automap found\n",
    "thing = base.classes.keys()\n",
    "\n",
    "print(thing)\n",
    "\n",
    "# Save references to each table (capital because they are considered classes) \n",
    "#Company = Database.classes.company\n",
    "#Dividend = Database.classes.dividend\n",
    "inspector = inspect(engine)"
   ]
  },
  {
   "cell_type": "code",
   "execution_count": null,
   "metadata": {},
   "outputs": [],
   "source": []
  }
 ],
 "metadata": {
  "kernelspec": {
   "display_name": "Python 3",
   "language": "python",
   "name": "python3"
  },
  "language_info": {
   "codemirror_mode": {
    "name": "ipython",
    "version": 3
   },
   "file_extension": ".py",
   "mimetype": "text/x-python",
   "name": "python",
   "nbconvert_exporter": "python",
   "pygments_lexer": "ipython3",
   "version": "3.8.5"
  }
 },
 "nbformat": 4,
 "nbformat_minor": 4
}
